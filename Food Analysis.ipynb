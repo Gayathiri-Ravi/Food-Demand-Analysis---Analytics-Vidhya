{
 "cells": [
  {
   "cell_type": "code",
   "execution_count": 1,
   "id": "7faae4ed",
   "metadata": {},
   "outputs": [],
   "source": [
    "import pandas as pd\n",
    "import numpy as np\n",
    "import matplotlib.pyplot as plt\n",
    "import seaborn as sns\n",
    "import warnings\n",
    "warnings.filterwarnings('ignore')"
   ]
  },
  {
   "cell_type": "markdown",
   "id": "2b2a1f8a",
   "metadata": {},
   "source": [
    "### Let's import our data! "
   ]
  },
  {
   "cell_type": "code",
   "execution_count": 2,
   "id": "ca46e045",
   "metadata": {},
   "outputs": [
    {
     "data": {
      "text/html": [
       "<div>\n",
       "<style scoped>\n",
       "    .dataframe tbody tr th:only-of-type {\n",
       "        vertical-align: middle;\n",
       "    }\n",
       "\n",
       "    .dataframe tbody tr th {\n",
       "        vertical-align: top;\n",
       "    }\n",
       "\n",
       "    .dataframe thead th {\n",
       "        text-align: right;\n",
       "    }\n",
       "</style>\n",
       "<table border=\"1\" class=\"dataframe\">\n",
       "  <thead>\n",
       "    <tr style=\"text-align: right;\">\n",
       "      <th></th>\n",
       "      <th>id</th>\n",
       "      <th>week</th>\n",
       "      <th>center_id</th>\n",
       "      <th>meal_id</th>\n",
       "      <th>checkout_price</th>\n",
       "      <th>base_price</th>\n",
       "      <th>emailer_for_promotion</th>\n",
       "      <th>homepage_featured</th>\n",
       "      <th>num_orders</th>\n",
       "    </tr>\n",
       "  </thead>\n",
       "  <tbody>\n",
       "    <tr>\n",
       "      <th>0</th>\n",
       "      <td>1379560</td>\n",
       "      <td>1</td>\n",
       "      <td>55</td>\n",
       "      <td>1885</td>\n",
       "      <td>136.83</td>\n",
       "      <td>152.29</td>\n",
       "      <td>0</td>\n",
       "      <td>0</td>\n",
       "      <td>177</td>\n",
       "    </tr>\n",
       "    <tr>\n",
       "      <th>1</th>\n",
       "      <td>1466964</td>\n",
       "      <td>1</td>\n",
       "      <td>55</td>\n",
       "      <td>1993</td>\n",
       "      <td>136.83</td>\n",
       "      <td>135.83</td>\n",
       "      <td>0</td>\n",
       "      <td>0</td>\n",
       "      <td>270</td>\n",
       "    </tr>\n",
       "    <tr>\n",
       "      <th>2</th>\n",
       "      <td>1346989</td>\n",
       "      <td>1</td>\n",
       "      <td>55</td>\n",
       "      <td>2539</td>\n",
       "      <td>134.86</td>\n",
       "      <td>135.86</td>\n",
       "      <td>0</td>\n",
       "      <td>0</td>\n",
       "      <td>189</td>\n",
       "    </tr>\n",
       "    <tr>\n",
       "      <th>3</th>\n",
       "      <td>1338232</td>\n",
       "      <td>1</td>\n",
       "      <td>55</td>\n",
       "      <td>2139</td>\n",
       "      <td>339.50</td>\n",
       "      <td>437.53</td>\n",
       "      <td>0</td>\n",
       "      <td>0</td>\n",
       "      <td>54</td>\n",
       "    </tr>\n",
       "    <tr>\n",
       "      <th>4</th>\n",
       "      <td>1448490</td>\n",
       "      <td>1</td>\n",
       "      <td>55</td>\n",
       "      <td>2631</td>\n",
       "      <td>243.50</td>\n",
       "      <td>242.50</td>\n",
       "      <td>0</td>\n",
       "      <td>0</td>\n",
       "      <td>40</td>\n",
       "    </tr>\n",
       "  </tbody>\n",
       "</table>\n",
       "</div>"
      ],
      "text/plain": [
       "        id  week  center_id  meal_id  checkout_price  base_price  \\\n",
       "0  1379560     1         55     1885          136.83      152.29   \n",
       "1  1466964     1         55     1993          136.83      135.83   \n",
       "2  1346989     1         55     2539          134.86      135.86   \n",
       "3  1338232     1         55     2139          339.50      437.53   \n",
       "4  1448490     1         55     2631          243.50      242.50   \n",
       "\n",
       "   emailer_for_promotion  homepage_featured  num_orders  \n",
       "0                      0                  0         177  \n",
       "1                      0                  0         270  \n",
       "2                      0                  0         189  \n",
       "3                      0                  0          54  \n",
       "4                      0                  0          40  "
      ]
     },
     "execution_count": 2,
     "metadata": {},
     "output_type": "execute_result"
    }
   ],
   "source": [
    "df = pd.read_csv('./Data/train.csv') ## Train data\n",
    "df.head()"
   ]
  },
  {
   "cell_type": "code",
   "execution_count": 3,
   "id": "eaa35739",
   "metadata": {},
   "outputs": [
    {
     "data": {
      "text/html": [
       "<div>\n",
       "<style scoped>\n",
       "    .dataframe tbody tr th:only-of-type {\n",
       "        vertical-align: middle;\n",
       "    }\n",
       "\n",
       "    .dataframe tbody tr th {\n",
       "        vertical-align: top;\n",
       "    }\n",
       "\n",
       "    .dataframe thead th {\n",
       "        text-align: right;\n",
       "    }\n",
       "</style>\n",
       "<table border=\"1\" class=\"dataframe\">\n",
       "  <thead>\n",
       "    <tr style=\"text-align: right;\">\n",
       "      <th></th>\n",
       "      <th>center_id</th>\n",
       "      <th>city_code</th>\n",
       "      <th>region_code</th>\n",
       "      <th>center_type</th>\n",
       "      <th>op_area</th>\n",
       "    </tr>\n",
       "  </thead>\n",
       "  <tbody>\n",
       "    <tr>\n",
       "      <th>0</th>\n",
       "      <td>11</td>\n",
       "      <td>679</td>\n",
       "      <td>56</td>\n",
       "      <td>TYPE_A</td>\n",
       "      <td>3.7</td>\n",
       "    </tr>\n",
       "    <tr>\n",
       "      <th>1</th>\n",
       "      <td>13</td>\n",
       "      <td>590</td>\n",
       "      <td>56</td>\n",
       "      <td>TYPE_B</td>\n",
       "      <td>6.7</td>\n",
       "    </tr>\n",
       "    <tr>\n",
       "      <th>2</th>\n",
       "      <td>124</td>\n",
       "      <td>590</td>\n",
       "      <td>56</td>\n",
       "      <td>TYPE_C</td>\n",
       "      <td>4.0</td>\n",
       "    </tr>\n",
       "    <tr>\n",
       "      <th>3</th>\n",
       "      <td>66</td>\n",
       "      <td>648</td>\n",
       "      <td>34</td>\n",
       "      <td>TYPE_A</td>\n",
       "      <td>4.1</td>\n",
       "    </tr>\n",
       "    <tr>\n",
       "      <th>4</th>\n",
       "      <td>94</td>\n",
       "      <td>632</td>\n",
       "      <td>34</td>\n",
       "      <td>TYPE_C</td>\n",
       "      <td>3.6</td>\n",
       "    </tr>\n",
       "  </tbody>\n",
       "</table>\n",
       "</div>"
      ],
      "text/plain": [
       "   center_id  city_code  region_code center_type  op_area\n",
       "0         11        679           56      TYPE_A      3.7\n",
       "1         13        590           56      TYPE_B      6.7\n",
       "2        124        590           56      TYPE_C      4.0\n",
       "3         66        648           34      TYPE_A      4.1\n",
       "4         94        632           34      TYPE_C      3.6"
      ]
     },
     "execution_count": 3,
     "metadata": {},
     "output_type": "execute_result"
    }
   ],
   "source": [
    "fc = pd.read_csv('./Data/fulfilment_center_info.csv') ## fulfilment_center_info\n",
    "fc.head()"
   ]
  },
  {
   "cell_type": "code",
   "execution_count": 4,
   "id": "e44bc68f",
   "metadata": {},
   "outputs": [],
   "source": [
    "mi = pd.read_csv('./Data/meal_info.csv') ## meal_info"
   ]
  },
  {
   "cell_type": "code",
   "execution_count": 5,
   "id": "ff9d2667",
   "metadata": {},
   "outputs": [],
   "source": [
    "mi['cusine_name'] = mi['cuisine'] + ' ' +mi['category']"
   ]
  },
  {
   "cell_type": "code",
   "execution_count": 6,
   "id": "dfa2ce6b",
   "metadata": {},
   "outputs": [
    {
     "data": {
      "text/html": [
       "<div>\n",
       "<style scoped>\n",
       "    .dataframe tbody tr th:only-of-type {\n",
       "        vertical-align: middle;\n",
       "    }\n",
       "\n",
       "    .dataframe tbody tr th {\n",
       "        vertical-align: top;\n",
       "    }\n",
       "\n",
       "    .dataframe thead th {\n",
       "        text-align: right;\n",
       "    }\n",
       "</style>\n",
       "<table border=\"1\" class=\"dataframe\">\n",
       "  <thead>\n",
       "    <tr style=\"text-align: right;\">\n",
       "      <th></th>\n",
       "      <th>meal_id</th>\n",
       "      <th>category</th>\n",
       "      <th>cuisine</th>\n",
       "      <th>cusine_name</th>\n",
       "    </tr>\n",
       "  </thead>\n",
       "  <tbody>\n",
       "    <tr>\n",
       "      <th>0</th>\n",
       "      <td>1885</td>\n",
       "      <td>Beverages</td>\n",
       "      <td>Thai</td>\n",
       "      <td>Thai Beverages</td>\n",
       "    </tr>\n",
       "    <tr>\n",
       "      <th>1</th>\n",
       "      <td>1993</td>\n",
       "      <td>Beverages</td>\n",
       "      <td>Thai</td>\n",
       "      <td>Thai Beverages</td>\n",
       "    </tr>\n",
       "    <tr>\n",
       "      <th>2</th>\n",
       "      <td>2539</td>\n",
       "      <td>Beverages</td>\n",
       "      <td>Thai</td>\n",
       "      <td>Thai Beverages</td>\n",
       "    </tr>\n",
       "    <tr>\n",
       "      <th>3</th>\n",
       "      <td>1248</td>\n",
       "      <td>Beverages</td>\n",
       "      <td>Indian</td>\n",
       "      <td>Indian Beverages</td>\n",
       "    </tr>\n",
       "    <tr>\n",
       "      <th>4</th>\n",
       "      <td>2631</td>\n",
       "      <td>Beverages</td>\n",
       "      <td>Indian</td>\n",
       "      <td>Indian Beverages</td>\n",
       "    </tr>\n",
       "  </tbody>\n",
       "</table>\n",
       "</div>"
      ],
      "text/plain": [
       "   meal_id   category cuisine       cusine_name\n",
       "0     1885  Beverages    Thai    Thai Beverages\n",
       "1     1993  Beverages    Thai    Thai Beverages\n",
       "2     2539  Beverages    Thai    Thai Beverages\n",
       "3     1248  Beverages  Indian  Indian Beverages\n",
       "4     2631  Beverages  Indian  Indian Beverages"
      ]
     },
     "execution_count": 6,
     "metadata": {},
     "output_type": "execute_result"
    }
   ],
   "source": [
    "mi.head()"
   ]
  },
  {
   "cell_type": "markdown",
   "id": "0d2a74df",
   "metadata": {},
   "source": [
    "### Let's Understand our data"
   ]
  },
  {
   "cell_type": "markdown",
   "id": "ec3cac79",
   "metadata": {},
   "source": [
    "### 1. Fullfilment Center"
   ]
  },
  {
   "cell_type": "code",
   "execution_count": 7,
   "id": "3048b669",
   "metadata": {},
   "outputs": [
    {
     "data": {
      "text/html": [
       "<div>\n",
       "<style scoped>\n",
       "    .dataframe tbody tr th:only-of-type {\n",
       "        vertical-align: middle;\n",
       "    }\n",
       "\n",
       "    .dataframe tbody tr th {\n",
       "        vertical-align: top;\n",
       "    }\n",
       "\n",
       "    .dataframe thead th {\n",
       "        text-align: right;\n",
       "    }\n",
       "</style>\n",
       "<table border=\"1\" class=\"dataframe\">\n",
       "  <thead>\n",
       "    <tr style=\"text-align: right;\">\n",
       "      <th></th>\n",
       "      <th>center_id</th>\n",
       "      <th>city_code</th>\n",
       "      <th>region_code</th>\n",
       "      <th>center_type</th>\n",
       "      <th>op_area</th>\n",
       "    </tr>\n",
       "  </thead>\n",
       "  <tbody>\n",
       "    <tr>\n",
       "      <th>0</th>\n",
       "      <td>11</td>\n",
       "      <td>679</td>\n",
       "      <td>56</td>\n",
       "      <td>TYPE_A</td>\n",
       "      <td>3.7</td>\n",
       "    </tr>\n",
       "    <tr>\n",
       "      <th>1</th>\n",
       "      <td>13</td>\n",
       "      <td>590</td>\n",
       "      <td>56</td>\n",
       "      <td>TYPE_B</td>\n",
       "      <td>6.7</td>\n",
       "    </tr>\n",
       "    <tr>\n",
       "      <th>2</th>\n",
       "      <td>124</td>\n",
       "      <td>590</td>\n",
       "      <td>56</td>\n",
       "      <td>TYPE_C</td>\n",
       "      <td>4.0</td>\n",
       "    </tr>\n",
       "    <tr>\n",
       "      <th>3</th>\n",
       "      <td>66</td>\n",
       "      <td>648</td>\n",
       "      <td>34</td>\n",
       "      <td>TYPE_A</td>\n",
       "      <td>4.1</td>\n",
       "    </tr>\n",
       "    <tr>\n",
       "      <th>4</th>\n",
       "      <td>94</td>\n",
       "      <td>632</td>\n",
       "      <td>34</td>\n",
       "      <td>TYPE_C</td>\n",
       "      <td>3.6</td>\n",
       "    </tr>\n",
       "  </tbody>\n",
       "</table>\n",
       "</div>"
      ],
      "text/plain": [
       "   center_id  city_code  region_code center_type  op_area\n",
       "0         11        679           56      TYPE_A      3.7\n",
       "1         13        590           56      TYPE_B      6.7\n",
       "2        124        590           56      TYPE_C      4.0\n",
       "3         66        648           34      TYPE_A      4.1\n",
       "4         94        632           34      TYPE_C      3.6"
      ]
     },
     "execution_count": 7,
     "metadata": {},
     "output_type": "execute_result"
    }
   ],
   "source": [
    "fc.head()"
   ]
  },
  {
   "cell_type": "code",
   "execution_count": 8,
   "id": "0d28d4bb",
   "metadata": {},
   "outputs": [
    {
     "name": "stdout",
     "output_type": "stream",
     "text": [
      "<class 'pandas.core.frame.DataFrame'>\n",
      "RangeIndex: 77 entries, 0 to 76\n",
      "Data columns (total 5 columns):\n",
      " #   Column       Non-Null Count  Dtype  \n",
      "---  ------       --------------  -----  \n",
      " 0   center_id    77 non-null     int64  \n",
      " 1   city_code    77 non-null     int64  \n",
      " 2   region_code  77 non-null     int64  \n",
      " 3   center_type  77 non-null     object \n",
      " 4   op_area      77 non-null     float64\n",
      "dtypes: float64(1), int64(3), object(1)\n",
      "memory usage: 3.1+ KB\n",
      "None\n"
     ]
    }
   ],
   "source": [
    "print(fc.info())"
   ]
  },
  {
   "cell_type": "code",
   "execution_count": 9,
   "id": "52e772c9",
   "metadata": {},
   "outputs": [
    {
     "data": {
      "text/html": [
       "<div>\n",
       "<style scoped>\n",
       "    .dataframe tbody tr th:only-of-type {\n",
       "        vertical-align: middle;\n",
       "    }\n",
       "\n",
       "    .dataframe tbody tr th {\n",
       "        vertical-align: top;\n",
       "    }\n",
       "\n",
       "    .dataframe thead th {\n",
       "        text-align: right;\n",
       "    }\n",
       "</style>\n",
       "<table border=\"1\" class=\"dataframe\">\n",
       "  <thead>\n",
       "    <tr style=\"text-align: right;\">\n",
       "      <th></th>\n",
       "      <th>count</th>\n",
       "      <th>mean</th>\n",
       "      <th>std</th>\n",
       "      <th>min</th>\n",
       "      <th>25%</th>\n",
       "      <th>50%</th>\n",
       "      <th>75%</th>\n",
       "      <th>max</th>\n",
       "    </tr>\n",
       "  </thead>\n",
       "  <tbody>\n",
       "    <tr>\n",
       "      <th>center_id</th>\n",
       "      <td>77.0</td>\n",
       "      <td>83.142857</td>\n",
       "      <td>46.090219</td>\n",
       "      <td>10.0</td>\n",
       "      <td>50.0</td>\n",
       "      <td>77.0</td>\n",
       "      <td>110.0</td>\n",
       "      <td>186.0</td>\n",
       "    </tr>\n",
       "    <tr>\n",
       "      <th>city_code</th>\n",
       "      <td>77.0</td>\n",
       "      <td>600.662338</td>\n",
       "      <td>66.720274</td>\n",
       "      <td>456.0</td>\n",
       "      <td>553.0</td>\n",
       "      <td>596.0</td>\n",
       "      <td>651.0</td>\n",
       "      <td>713.0</td>\n",
       "    </tr>\n",
       "    <tr>\n",
       "      <th>region_code</th>\n",
       "      <td>77.0</td>\n",
       "      <td>56.493506</td>\n",
       "      <td>18.126473</td>\n",
       "      <td>23.0</td>\n",
       "      <td>34.0</td>\n",
       "      <td>56.0</td>\n",
       "      <td>77.0</td>\n",
       "      <td>93.0</td>\n",
       "    </tr>\n",
       "    <tr>\n",
       "      <th>op_area</th>\n",
       "      <td>77.0</td>\n",
       "      <td>3.985714</td>\n",
       "      <td>1.106406</td>\n",
       "      <td>0.9</td>\n",
       "      <td>3.5</td>\n",
       "      <td>3.9</td>\n",
       "      <td>4.4</td>\n",
       "      <td>7.0</td>\n",
       "    </tr>\n",
       "  </tbody>\n",
       "</table>\n",
       "</div>"
      ],
      "text/plain": [
       "             count        mean        std    min    25%    50%    75%    max\n",
       "center_id     77.0   83.142857  46.090219   10.0   50.0   77.0  110.0  186.0\n",
       "city_code     77.0  600.662338  66.720274  456.0  553.0  596.0  651.0  713.0\n",
       "region_code   77.0   56.493506  18.126473   23.0   34.0   56.0   77.0   93.0\n",
       "op_area       77.0    3.985714   1.106406    0.9    3.5    3.9    4.4    7.0"
      ]
     },
     "execution_count": 9,
     "metadata": {},
     "output_type": "execute_result"
    }
   ],
   "source": [
    "fc.describe().T"
   ]
  },
  {
   "cell_type": "code",
   "execution_count": 10,
   "id": "2b70ae97",
   "metadata": {},
   "outputs": [],
   "source": [
    "# fc.isnull().sum() ## No Nulls"
   ]
  },
  {
   "cell_type": "markdown",
   "id": "856e8a02",
   "metadata": {},
   "source": [
    "### Data Distribution for Operational area"
   ]
  },
  {
   "cell_type": "code",
   "execution_count": 11,
   "id": "1c97019c",
   "metadata": {},
   "outputs": [
    {
     "data": {
      "image/png": "[encoded data removed]",
      "text/plain": [
       "<Figure size 360x360 with 1 Axes>"
      ]
     },
     "metadata": {
      "needs_background": "light"
     },
     "output_type": "display_data"
    },
    {
     "data": {
      "image/png": "[encoded data removed]",
      "text/plain": [
       "<Figure size 432x288 with 1 Axes>"
      ]
     },
     "metadata": {
      "needs_background": "light"
     },
     "output_type": "display_data"
    }
   ],
   "source": [
    "sns.displot(fc.op_area)\n",
    "plt.grid()\n",
    "plt.show()\n",
    "sns.boxplot(data = fc, x = 'op_area')\n",
    "plt.grid()\n",
    "plt.show()"
   ]
  },
  {
   "cell_type": "markdown",
   "id": "d6a9e104",
   "metadata": {},
   "source": [
    "### Count of center types"
   ]
  },
  {
   "cell_type": "code",
   "execution_count": 12,
   "id": "380aa90b",
   "metadata": {},
   "outputs": [
    {
     "data": {
      "image/png": "[encoded data removed]",
      "text/plain": [
       "<Figure size 432x288 with 1 Axes>"
      ]
     },
     "metadata": {
      "needs_background": "light"
     },
     "output_type": "display_data"
    }
   ],
   "source": [
    "sns.countplot(data = fc,x = 'center_type',order=fc.center_type.value_counts().index)\n",
    "plt.grid()\n",
    "plt.show()"
   ]
  },
  {
   "cell_type": "markdown",
   "id": "c545af93",
   "metadata": {},
   "source": [
    "### \"Operational Area\" averages WRT \"center types\""
   ]
  },
  {
   "cell_type": "code",
   "execution_count": 13,
   "id": "f3d45b89",
   "metadata": {},
   "outputs": [
    {
     "data": {
      "text/plain": [
       "center_type\n",
       "TYPE_B    4.773333\n",
       "TYPE_A    4.076744\n",
       "TYPE_C    3.157895\n",
       "Name: op_area, dtype: float64"
      ]
     },
     "execution_count": 13,
     "metadata": {},
     "output_type": "execute_result"
    }
   ],
   "source": [
    "fc.op_area.groupby(fc.center_type).mean().sort_values(ascending=False)"
   ]
  },
  {
   "cell_type": "markdown",
   "id": "61030cb9",
   "metadata": {},
   "source": [
    "### 2. Meal Info"
   ]
  },
  {
   "cell_type": "code",
   "execution_count": 14,
   "id": "a71787d5",
   "metadata": {},
   "outputs": [
    {
     "data": {
      "text/html": [
       "<div>\n",
       "<style scoped>\n",
       "    .dataframe tbody tr th:only-of-type {\n",
       "        vertical-align: middle;\n",
       "    }\n",
       "\n",
       "    .dataframe tbody tr th {\n",
       "        vertical-align: top;\n",
       "    }\n",
       "\n",
       "    .dataframe thead th {\n",
       "        text-align: right;\n",
       "    }\n",
       "</style>\n",
       "<table border=\"1\" class=\"dataframe\">\n",
       "  <thead>\n",
       "    <tr style=\"text-align: right;\">\n",
       "      <th></th>\n",
       "      <th>meal_id</th>\n",
       "      <th>category</th>\n",
       "      <th>cuisine</th>\n",
       "      <th>cusine_name</th>\n",
       "    </tr>\n",
       "  </thead>\n",
       "  <tbody>\n",
       "    <tr>\n",
       "      <th>0</th>\n",
       "      <td>1885</td>\n",
       "      <td>Beverages</td>\n",
       "      <td>Thai</td>\n",
       "      <td>Thai Beverages</td>\n",
       "    </tr>\n",
       "    <tr>\n",
       "      <th>1</th>\n",
       "      <td>1993</td>\n",
       "      <td>Beverages</td>\n",
       "      <td>Thai</td>\n",
       "      <td>Thai Beverages</td>\n",
       "    </tr>\n",
       "    <tr>\n",
       "      <th>2</th>\n",
       "      <td>2539</td>\n",
       "      <td>Beverages</td>\n",
       "      <td>Thai</td>\n",
       "      <td>Thai Beverages</td>\n",
       "    </tr>\n",
       "    <tr>\n",
       "      <th>3</th>\n",
       "      <td>1248</td>\n",
       "      <td>Beverages</td>\n",
       "      <td>Indian</td>\n",
       "      <td>Indian Beverages</td>\n",
       "    </tr>\n",
       "    <tr>\n",
       "      <th>4</th>\n",
       "      <td>2631</td>\n",
       "      <td>Beverages</td>\n",
       "      <td>Indian</td>\n",
       "      <td>Indian Beverages</td>\n",
       "    </tr>\n",
       "  </tbody>\n",
       "</table>\n",
       "</div>"
      ],
      "text/plain": [
       "   meal_id   category cuisine       cusine_name\n",
       "0     1885  Beverages    Thai    Thai Beverages\n",
       "1     1993  Beverages    Thai    Thai Beverages\n",
       "2     2539  Beverages    Thai    Thai Beverages\n",
       "3     1248  Beverages  Indian  Indian Beverages\n",
       "4     2631  Beverages  Indian  Indian Beverages"
      ]
     },
     "execution_count": 14,
     "metadata": {},
     "output_type": "execute_result"
    }
   ],
   "source": [
    "mi.head()"
   ]
  },
  {
   "cell_type": "code",
   "execution_count": 15,
   "id": "fb58dd4c",
   "metadata": {},
   "outputs": [
    {
     "name": "stdout",
     "output_type": "stream",
     "text": [
      "<class 'pandas.core.frame.DataFrame'>\n",
      "RangeIndex: 51 entries, 0 to 50\n",
      "Data columns (total 4 columns):\n",
      " #   Column       Non-Null Count  Dtype \n",
      "---  ------       --------------  ----- \n",
      " 0   meal_id      51 non-null     int64 \n",
      " 1   category     51 non-null     object\n",
      " 2   cuisine      51 non-null     object\n",
      " 3   cusine_name  51 non-null     object\n",
      "dtypes: int64(1), object(3)\n",
      "memory usage: 1.7+ KB\n"
     ]
    }
   ],
   "source": [
    "mi.info()"
   ]
  },
  {
   "cell_type": "code",
   "execution_count": 16,
   "id": "22a1d58c",
   "metadata": {},
   "outputs": [],
   "source": [
    "# mi.isnull().sum() ## No Nulls"
   ]
  },
  {
   "cell_type": "markdown",
   "id": "6616796c",
   "metadata": {},
   "source": [
    "### Count of the Category"
   ]
  },
  {
   "cell_type": "code",
   "execution_count": 17,
   "id": "120716d7",
   "metadata": {},
   "outputs": [
    {
     "data": {
      "image/png": "[encoded data removed]",
      "text/plain": [
       "<Figure size 432x288 with 1 Axes>"
      ]
     },
     "metadata": {
      "needs_background": "light"
     },
     "output_type": "display_data"
    }
   ],
   "source": [
    "sns.countplot(data = mi, x = 'category')\n",
    "plt.xticks(rotation=90)\n",
    "plt.grid()\n",
    "plt.show()"
   ]
  },
  {
   "cell_type": "markdown",
   "id": "8d079c8a",
   "metadata": {},
   "source": [
    "### Count of cuisines! "
   ]
  },
  {
   "cell_type": "code",
   "execution_count": 18,
   "id": "d561e7e6",
   "metadata": {},
   "outputs": [
    {
     "data": {
      "image/png": "[encoded data removed]",
      "text/plain": [
       "<Figure size 432x288 with 1 Axes>"
      ]
     },
     "metadata": {
      "needs_background": "light"
     },
     "output_type": "display_data"
    }
   ],
   "source": [
    "sns.countplot(data = mi, x = 'cuisine')\n",
    "plt.xticks(rotation=90)\n",
    "plt.grid()\n",
    "plt.show()"
   ]
  },
  {
   "cell_type": "code",
   "execution_count": 19,
   "id": "4828710e",
   "metadata": {},
   "outputs": [
    {
     "data": {
      "image/png": "[encoded data removed]",
      "text/plain": [
       "<Figure size 432x288 with 1 Axes>"
      ]
     },
     "metadata": {
      "needs_background": "light"
     },
     "output_type": "display_data"
    }
   ],
   "source": [
    "sns.countplot(data = mi, x = 'cusine_name')\n",
    "plt.xticks(rotation=90)\n",
    "plt.grid()\n",
    "plt.show()"
   ]
  },
  {
   "cell_type": "markdown",
   "id": "4fbb70ee",
   "metadata": {},
   "source": [
    "### Train data!"
   ]
  },
  {
   "cell_type": "code",
   "execution_count": 20,
   "id": "e8a4beb9",
   "metadata": {},
   "outputs": [
    {
     "data": {
      "text/html": [
       "<div>\n",
       "<style scoped>\n",
       "    .dataframe tbody tr th:only-of-type {\n",
       "        vertical-align: middle;\n",
       "    }\n",
       "\n",
       "    .dataframe tbody tr th {\n",
       "        vertical-align: top;\n",
       "    }\n",
       "\n",
       "    .dataframe thead th {\n",
       "        text-align: right;\n",
       "    }\n",
       "</style>\n",
       "<table border=\"1\" class=\"dataframe\">\n",
       "  <thead>\n",
       "    <tr style=\"text-align: right;\">\n",
       "      <th></th>\n",
       "      <th>id</th>\n",
       "      <th>week</th>\n",
       "      <th>center_id</th>\n",
       "      <th>meal_id</th>\n",
       "      <th>checkout_price</th>\n",
       "      <th>base_price</th>\n",
       "      <th>emailer_for_promotion</th>\n",
       "      <th>homepage_featured</th>\n",
       "      <th>num_orders</th>\n",
       "    </tr>\n",
       "  </thead>\n",
       "  <tbody>\n",
       "    <tr>\n",
       "      <th>0</th>\n",
       "      <td>1379560</td>\n",
       "      <td>1</td>\n",
       "      <td>55</td>\n",
       "      <td>1885</td>\n",
       "      <td>136.83</td>\n",
       "      <td>152.29</td>\n",
       "      <td>0</td>\n",
       "      <td>0</td>\n",
       "      <td>177</td>\n",
       "    </tr>\n",
       "    <tr>\n",
       "      <th>1</th>\n",
       "      <td>1466964</td>\n",
       "      <td>1</td>\n",
       "      <td>55</td>\n",
       "      <td>1993</td>\n",
       "      <td>136.83</td>\n",
       "      <td>135.83</td>\n",
       "      <td>0</td>\n",
       "      <td>0</td>\n",
       "      <td>270</td>\n",
       "    </tr>\n",
       "    <tr>\n",
       "      <th>2</th>\n",
       "      <td>1346989</td>\n",
       "      <td>1</td>\n",
       "      <td>55</td>\n",
       "      <td>2539</td>\n",
       "      <td>134.86</td>\n",
       "      <td>135.86</td>\n",
       "      <td>0</td>\n",
       "      <td>0</td>\n",
       "      <td>189</td>\n",
       "    </tr>\n",
       "    <tr>\n",
       "      <th>3</th>\n",
       "      <td>1338232</td>\n",
       "      <td>1</td>\n",
       "      <td>55</td>\n",
       "      <td>2139</td>\n",
       "      <td>339.50</td>\n",
       "      <td>437.53</td>\n",
       "      <td>0</td>\n",
       "      <td>0</td>\n",
       "      <td>54</td>\n",
       "    </tr>\n",
       "    <tr>\n",
       "      <th>4</th>\n",
       "      <td>1448490</td>\n",
       "      <td>1</td>\n",
       "      <td>55</td>\n",
       "      <td>2631</td>\n",
       "      <td>243.50</td>\n",
       "      <td>242.50</td>\n",
       "      <td>0</td>\n",
       "      <td>0</td>\n",
       "      <td>40</td>\n",
       "    </tr>\n",
       "  </tbody>\n",
       "</table>\n",
       "</div>"
      ],
      "text/plain": [
       "        id  week  center_id  meal_id  checkout_price  base_price  \\\n",
       "0  1379560     1         55     1885          136.83      152.29   \n",
       "1  1466964     1         55     1993          136.83      135.83   \n",
       "2  1346989     1         55     2539          134.86      135.86   \n",
       "3  1338232     1         55     2139          339.50      437.53   \n",
       "4  1448490     1         55     2631          243.50      242.50   \n",
       "\n",
       "   emailer_for_promotion  homepage_featured  num_orders  \n",
       "0                      0                  0         177  \n",
       "1                      0                  0         270  \n",
       "2                      0                  0         189  \n",
       "3                      0                  0          54  \n",
       "4                      0                  0          40  "
      ]
     },
     "execution_count": 20,
     "metadata": {},
     "output_type": "execute_result"
    }
   ],
   "source": [
    "df.head()"
   ]
  },
  {
   "cell_type": "code",
   "execution_count": 21,
   "id": "06d74c46",
   "metadata": {},
   "outputs": [
    {
     "name": "stdout",
     "output_type": "stream",
     "text": [
      "<class 'pandas.core.frame.DataFrame'>\n",
      "RangeIndex: 456548 entries, 0 to 456547\n",
      "Data columns (total 9 columns):\n",
      " #   Column                 Non-Null Count   Dtype  \n",
      "---  ------                 --------------   -----  \n",
      " 0   id                     456548 non-null  int64  \n",
      " 1   week                   456548 non-null  int64  \n",
      " 2   center_id              456548 non-null  int64  \n",
      " 3   meal_id                456548 non-null  int64  \n",
      " 4   checkout_price         456548 non-null  float64\n",
      " 5   base_price             456548 non-null  float64\n",
      " 6   emailer_for_promotion  456548 non-null  int64  \n",
      " 7   homepage_featured      456548 non-null  int64  \n",
      " 8   num_orders             456548 non-null  int64  \n",
      "dtypes: float64(2), int64(7)\n",
      "memory usage: 31.3 MB\n"
     ]
    }
   ],
   "source": [
    "df.info()"
   ]
  },
  {
   "cell_type": "code",
   "execution_count": 22,
   "id": "3a232773",
   "metadata": {},
   "outputs": [
    {
     "data": {
      "text/html": [
       "<div>\n",
       "<style scoped>\n",
       "    .dataframe tbody tr th:only-of-type {\n",
       "        vertical-align: middle;\n",
       "    }\n",
       "\n",
       "    .dataframe tbody tr th {\n",
       "        vertical-align: top;\n",
       "    }\n",
       "\n",
       "    .dataframe thead th {\n",
       "        text-align: right;\n",
       "    }\n",
       "</style>\n",
       "<table border=\"1\" class=\"dataframe\">\n",
       "  <thead>\n",
       "    <tr style=\"text-align: right;\">\n",
       "      <th></th>\n",
       "      <th>count</th>\n",
       "      <th>mean</th>\n",
       "      <th>std</th>\n",
       "      <th>min</th>\n",
       "      <th>25%</th>\n",
       "      <th>50%</th>\n",
       "      <th>75%</th>\n",
       "      <th>max</th>\n",
       "    </tr>\n",
       "  </thead>\n",
       "  <tbody>\n",
       "    <tr>\n",
       "      <th>id</th>\n",
       "      <td>456548.0</td>\n",
       "      <td>1250096.31</td>\n",
       "      <td>144354.82</td>\n",
       "      <td>1000000.00</td>\n",
       "      <td>1124998.75</td>\n",
       "      <td>1250183.50</td>\n",
       "      <td>1375140.25</td>\n",
       "      <td>1499999.00</td>\n",
       "    </tr>\n",
       "    <tr>\n",
       "      <th>week</th>\n",
       "      <td>456548.0</td>\n",
       "      <td>74.77</td>\n",
       "      <td>41.52</td>\n",
       "      <td>1.00</td>\n",
       "      <td>39.00</td>\n",
       "      <td>76.00</td>\n",
       "      <td>111.00</td>\n",
       "      <td>145.00</td>\n",
       "    </tr>\n",
       "    <tr>\n",
       "      <th>center_id</th>\n",
       "      <td>456548.0</td>\n",
       "      <td>82.11</td>\n",
       "      <td>45.98</td>\n",
       "      <td>10.00</td>\n",
       "      <td>43.00</td>\n",
       "      <td>76.00</td>\n",
       "      <td>110.00</td>\n",
       "      <td>186.00</td>\n",
       "    </tr>\n",
       "    <tr>\n",
       "      <th>meal_id</th>\n",
       "      <td>456548.0</td>\n",
       "      <td>2024.34</td>\n",
       "      <td>547.42</td>\n",
       "      <td>1062.00</td>\n",
       "      <td>1558.00</td>\n",
       "      <td>1993.00</td>\n",
       "      <td>2539.00</td>\n",
       "      <td>2956.00</td>\n",
       "    </tr>\n",
       "    <tr>\n",
       "      <th>checkout_price</th>\n",
       "      <td>456548.0</td>\n",
       "      <td>332.24</td>\n",
       "      <td>152.94</td>\n",
       "      <td>2.97</td>\n",
       "      <td>228.95</td>\n",
       "      <td>296.82</td>\n",
       "      <td>445.23</td>\n",
       "      <td>866.27</td>\n",
       "    </tr>\n",
       "    <tr>\n",
       "      <th>base_price</th>\n",
       "      <td>456548.0</td>\n",
       "      <td>354.16</td>\n",
       "      <td>160.72</td>\n",
       "      <td>55.35</td>\n",
       "      <td>243.50</td>\n",
       "      <td>310.46</td>\n",
       "      <td>458.87</td>\n",
       "      <td>866.27</td>\n",
       "    </tr>\n",
       "    <tr>\n",
       "      <th>emailer_for_promotion</th>\n",
       "      <td>456548.0</td>\n",
       "      <td>0.08</td>\n",
       "      <td>0.27</td>\n",
       "      <td>0.00</td>\n",
       "      <td>0.00</td>\n",
       "      <td>0.00</td>\n",
       "      <td>0.00</td>\n",
       "      <td>1.00</td>\n",
       "    </tr>\n",
       "    <tr>\n",
       "      <th>homepage_featured</th>\n",
       "      <td>456548.0</td>\n",
       "      <td>0.11</td>\n",
       "      <td>0.31</td>\n",
       "      <td>0.00</td>\n",
       "      <td>0.00</td>\n",
       "      <td>0.00</td>\n",
       "      <td>0.00</td>\n",
       "      <td>1.00</td>\n",
       "    </tr>\n",
       "    <tr>\n",
       "      <th>num_orders</th>\n",
       "      <td>456548.0</td>\n",
       "      <td>261.87</td>\n",
       "      <td>395.92</td>\n",
       "      <td>13.00</td>\n",
       "      <td>54.00</td>\n",
       "      <td>136.00</td>\n",
       "      <td>324.00</td>\n",
       "      <td>24299.00</td>\n",
       "    </tr>\n",
       "  </tbody>\n",
       "</table>\n",
       "</div>"
      ],
      "text/plain": [
       "                          count        mean        std         min  \\\n",
       "id                     456548.0  1250096.31  144354.82  1000000.00   \n",
       "week                   456548.0       74.77      41.52        1.00   \n",
       "center_id              456548.0       82.11      45.98       10.00   \n",
       "meal_id                456548.0     2024.34     547.42     1062.00   \n",
       "checkout_price         456548.0      332.24     152.94        2.97   \n",
       "base_price             456548.0      354.16     160.72       55.35   \n",
       "emailer_for_promotion  456548.0        0.08       0.27        0.00   \n",
       "homepage_featured      456548.0        0.11       0.31        0.00   \n",
       "num_orders             456548.0      261.87     395.92       13.00   \n",
       "\n",
       "                              25%         50%         75%         max  \n",
       "id                     1124998.75  1250183.50  1375140.25  1499999.00  \n",
       "week                        39.00       76.00      111.00      145.00  \n",
       "center_id                   43.00       76.00      110.00      186.00  \n",
       "meal_id                   1558.00     1993.00     2539.00     2956.00  \n",
       "checkout_price             228.95      296.82      445.23      866.27  \n",
       "base_price                 243.50      310.46      458.87      866.27  \n",
       "emailer_for_promotion        0.00        0.00        0.00        1.00  \n",
       "homepage_featured            0.00        0.00        0.00        1.00  \n",
       "num_orders                  54.00      136.00      324.00    24299.00  "
      ]
     },
     "execution_count": 22,
     "metadata": {},
     "output_type": "execute_result"
    }
   ],
   "source": [
    "df.describe().T.round(2)"
   ]
  },
  {
   "cell_type": "code",
   "execution_count": 23,
   "id": "7c873bcf",
   "metadata": {},
   "outputs": [],
   "source": [
    "# df.isnull().sum() ## No Null Data"
   ]
  },
  {
   "cell_type": "code",
   "execution_count": 24,
   "id": "c0562847",
   "metadata": {},
   "outputs": [
    {
     "name": "stdout",
     "output_type": "stream",
     "text": [
      "id\n",
      "week\n",
      "center_id\n",
      "meal_id\n",
      "checkout_price\n",
      "base_price\n",
      "emailer_for_promotion\n",
      "homepage_featured\n",
      "num_orders\n"
     ]
    }
   ],
   "source": [
    "for i in df.columns:\n",
    "    if df[i].dtype != 'object':\n",
    "        print(i)"
   ]
  },
  {
   "cell_type": "markdown",
   "id": "ef910f0f",
   "metadata": {},
   "source": [
    "### Data Analysis"
   ]
  },
  {
   "cell_type": "markdown",
   "id": "c730eb25",
   "metadata": {},
   "source": [
    "### Heat map of correlations"
   ]
  },
  {
   "cell_type": "code",
   "execution_count": 25,
   "id": "74951103",
   "metadata": {},
   "outputs": [
    {
     "data": {
      "text/plain": [
       "<matplotlib.axes._subplots.AxesSubplot at 0x234b04bab48>"
      ]
     },
     "execution_count": 25,
     "metadata": {},
     "output_type": "execute_result"
    },
    {
     "data": {
      "image/png": "[encoded data removed]",
      "text/plain": [
       "<Figure size 720x504 with 2 Axes>"
      ]
     },
     "metadata": {
      "needs_background": "light"
     },
     "output_type": "display_data"
    }
   ],
   "source": [
    "plt.figure(figsize=(10,7))\n",
    "sns.heatmap(df.corr(),annot=True)"
   ]
  },
  {
   "cell_type": "markdown",
   "id": "8fcfb10a",
   "metadata": {},
   "source": [
    "### Lets see what affects the number of orders! "
   ]
  },
  {
   "cell_type": "markdown",
   "id": "8bf598ef",
   "metadata": {},
   "source": [
    "### Lets see if the number of orders are going higer / lower"
   ]
  },
  {
   "cell_type": "code",
   "execution_count": 26,
   "id": "83a5d8c7",
   "metadata": {},
   "outputs": [],
   "source": [
    "week_numo = pd.DataFrame(df.num_orders.groupby(df.week).mean())"
   ]
  },
  {
   "cell_type": "code",
   "execution_count": 27,
   "id": "08935db6",
   "metadata": {},
   "outputs": [
    {
     "data": {
      "image/png": "[encoded data removed]",
      "text/plain": [
       "<Figure size 432x288 with 1 Axes>"
      ]
     },
     "metadata": {
      "needs_background": "light"
     },
     "output_type": "display_data"
    }
   ],
   "source": [
    "plt.plot(week_numo.index,week_numo.num_orders)\n",
    "plt.grid()\n",
    "plt.show()"
   ]
  },
  {
   "cell_type": "markdown",
   "id": "e0546064",
   "metadata": {},
   "source": [
    "### We can roughly see a downward trend in the number of orders"
   ]
  },
  {
   "cell_type": "markdown",
   "id": "ce0282aa",
   "metadata": {},
   "source": [
    "### Let's check if the Center ID affects the number of orders"
   ]
  },
  {
   "cell_type": "code",
   "execution_count": 28,
   "id": "7bd7ea6c",
   "metadata": {},
   "outputs": [
    {
     "data": {
      "image/png": "[encoded data removed]",
      "text/plain": [
       "<Figure size 720x1296 with 1 Axes>"
      ]
     },
     "metadata": {
      "needs_background": "light"
     },
     "output_type": "display_data"
    }
   ],
   "source": [
    "cid_numo = pd.DataFrame(df.num_orders.groupby(df.center_id).mean().sort_values())\n",
    "cid_numo.index = cid_numo.index.astype(str)\n",
    "plt.figure(figsize=(10,18))\n",
    "plt.barh(cid_numo.index,cid_numo.num_orders)\n",
    "plt.grid()\n",
    "plt.show()"
   ]
  },
  {
   "cell_type": "markdown",
   "id": "c66efef4",
   "metadata": {},
   "source": [
    "### Does checkout prices affect the order number ?"
   ]
  },
  {
   "cell_type": "code",
   "execution_count": 29,
   "id": "1f946586",
   "metadata": {},
   "outputs": [
    {
     "name": "stdout",
     "output_type": "stream",
     "text": [
      "Q1 : 228.95\n",
      "Q2 : 296.82\n",
      "Q3 : 445.23\n",
      "Upper limit : 769.6500000000001\n",
      "lower limit : -95.47000000000008\n"
     ]
    },
    {
     "data": {
      "image/png": "[encoded data removed]",
      "text/plain": [
       "<Figure size 432x288 with 1 Axes>"
      ]
     },
     "metadata": {
      "needs_background": "light"
     },
     "output_type": "display_data"
    }
   ],
   "source": [
    "sns.boxplot(df.checkout_price)\n",
    "plt.grid()\n",
    "\n",
    "q1 = np.percentile(df.checkout_price,25,interpolation='midpoint')\n",
    "q2 = df.checkout_price.median()\n",
    "q3 = np.percentile(df.checkout_price,75,interpolation='midpoint')\n",
    "iqr = q3-q1\n",
    "ul = q3+(1.5*iqr)\n",
    "ll = q1-(1.5*iqr)\n",
    "\n",
    "print('Q1 :',q1)\n",
    "print('Q2 :',q2)\n",
    "print('Q3 :',q3)\n",
    "print('Upper limit :',ul)\n",
    "print('lower limit :',ll)"
   ]
  },
  {
   "cell_type": "code",
   "execution_count": 30,
   "id": "232172ad",
   "metadata": {},
   "outputs": [],
   "source": [
    "cpc = []\n",
    "for i in df.checkout_price:\n",
    "    if i < q1:\n",
    "        cpc.append('cheap')\n",
    "    elif q1 <= i < q3:\n",
    "        cpc.append('moderate')\n",
    "    elif i >= q3:\n",
    "        cpc.append('costly')\n",
    "df['checkout_price_catg'] = cpc"
   ]
  },
  {
   "cell_type": "code",
   "execution_count": 31,
   "id": "a2fbf00a",
   "metadata": {},
   "outputs": [],
   "source": [
    "col = df.pop('checkout_price_catg')\n",
    "df.insert(5,'checkout_price_catg',col)"
   ]
  },
  {
   "cell_type": "code",
   "execution_count": 32,
   "id": "f863ceb3",
   "metadata": {},
   "outputs": [
    {
     "data": {
      "text/html": [
       "<div>\n",
       "<style scoped>\n",
       "    .dataframe tbody tr th:only-of-type {\n",
       "        vertical-align: middle;\n",
       "    }\n",
       "\n",
       "    .dataframe tbody tr th {\n",
       "        vertical-align: top;\n",
       "    }\n",
       "\n",
       "    .dataframe thead th {\n",
       "        text-align: right;\n",
       "    }\n",
       "</style>\n",
       "<table border=\"1\" class=\"dataframe\">\n",
       "  <thead>\n",
       "    <tr style=\"text-align: right;\">\n",
       "      <th></th>\n",
       "      <th>num_orders</th>\n",
       "    </tr>\n",
       "    <tr>\n",
       "      <th>checkout_price_catg</th>\n",
       "      <th></th>\n",
       "    </tr>\n",
       "  </thead>\n",
       "  <tbody>\n",
       "    <tr>\n",
       "      <th>moderate</th>\n",
       "      <td>58142826</td>\n",
       "    </tr>\n",
       "    <tr>\n",
       "      <th>cheap</th>\n",
       "      <td>48676245</td>\n",
       "    </tr>\n",
       "    <tr>\n",
       "      <th>costly</th>\n",
       "      <td>12738414</td>\n",
       "    </tr>\n",
       "  </tbody>\n",
       "</table>\n",
       "</div>"
      ],
      "text/plain": [
       "                     num_orders\n",
       "checkout_price_catg            \n",
       "moderate               58142826\n",
       "cheap                  48676245\n",
       "costly                 12738414"
      ]
     },
     "execution_count": 32,
     "metadata": {},
     "output_type": "execute_result"
    }
   ],
   "source": [
    "pd.DataFrame(df.num_orders.groupby(df.checkout_price_catg).sum().sort_values(ascending=False))"
   ]
  },
  {
   "cell_type": "markdown",
   "id": "d40e23ee",
   "metadata": {},
   "source": [
    "### We can infer that the moderately priced products have been sold the highest! The sum of the number of orders is highest for the moderately priced food products."
   ]
  },
  {
   "cell_type": "markdown",
   "id": "152e31df",
   "metadata": {},
   "source": [
    "### Let's see if the \"emailer for promotion\" has played any role."
   ]
  },
  {
   "cell_type": "code",
   "execution_count": 33,
   "id": "63180245",
   "metadata": {},
   "outputs": [
    {
     "name": "stdout",
     "output_type": "stream",
     "text": [
      "                       num_orders\n",
      "emailer_for_promotion            \n",
      "0                      229.262883\n",
      "1                      631.097544\n"
     ]
    },
    {
     "data": {
      "image/png": "[encoded data removed]",
      "text/plain": [
       "<Figure size 432x288 with 1 Axes>"
      ]
     },
     "metadata": {
      "needs_background": "light"
     },
     "output_type": "display_data"
    }
   ],
   "source": [
    "efp_numo = pd.DataFrame(df.num_orders.groupby(df.emailer_for_promotion).mean())\n",
    "plt.bar(efp_numo.index,efp_numo.num_orders)\n",
    "plt.grid()\n",
    "print(efp_numo)\n",
    "plt.show()"
   ]
  },
  {
   "cell_type": "markdown",
   "id": "66626690",
   "metadata": {},
   "source": [
    "### We can see the average number of orders are significantly higher when emailer for promotion is 1"
   ]
  },
  {
   "cell_type": "markdown",
   "id": "1d623d11",
   "metadata": {},
   "source": [
    "### Let's see if the \"homepage_featured\" has played any role."
   ]
  },
  {
   "cell_type": "code",
   "execution_count": 34,
   "id": "a66ca08a",
   "metadata": {},
   "outputs": [
    {
     "name": "stdout",
     "output_type": "stream",
     "text": [
      "                   num_orders\n",
      "homepage_featured            \n",
      "0                  221.050040\n",
      "1                  594.884786\n"
     ]
    },
    {
     "data": {
      "image/png": "[encoded data removed]",
      "text/plain": [
       "<Figure size 432x288 with 1 Axes>"
      ]
     },
     "metadata": {
      "needs_background": "light"
     },
     "output_type": "display_data"
    }
   ],
   "source": [
    "efp_numo = pd.DataFrame(df.num_orders.groupby(df.homepage_featured).mean())\n",
    "plt.bar(efp_numo.index,efp_numo.num_orders)\n",
    "plt.grid()\n",
    "print(efp_numo)\n",
    "plt.show()"
   ]
  },
  {
   "cell_type": "markdown",
   "id": "f197000c",
   "metadata": {},
   "source": [
    "### We can see the average number of orders are significantly higher when \"homepage_featured\" is 1"
   ]
  },
  {
   "cell_type": "markdown",
   "id": "2d86318f",
   "metadata": {},
   "source": [
    "### Let's now add the Center type feature from our fullfillment center data"
   ]
  },
  {
   "cell_type": "code",
   "execution_count": 35,
   "id": "3b3e1230",
   "metadata": {},
   "outputs": [],
   "source": [
    "ctype_id = fc.center_id.unique().tolist()\n",
    "ctype_list = fc.center_type.to_list()\n",
    "df['center_type'] = df['center_id']\n",
    "df['center_type'].replace(ctype_id,ctype_list,True)"
   ]
  },
  {
   "cell_type": "code",
   "execution_count": 36,
   "id": "d9f572ec",
   "metadata": {},
   "outputs": [
    {
     "data": {
      "text/html": [
       "<div>\n",
       "<style scoped>\n",
       "    .dataframe tbody tr th:only-of-type {\n",
       "        vertical-align: middle;\n",
       "    }\n",
       "\n",
       "    .dataframe tbody tr th {\n",
       "        vertical-align: top;\n",
       "    }\n",
       "\n",
       "    .dataframe thead th {\n",
       "        text-align: right;\n",
       "    }\n",
       "</style>\n",
       "<table border=\"1\" class=\"dataframe\">\n",
       "  <thead>\n",
       "    <tr style=\"text-align: right;\">\n",
       "      <th></th>\n",
       "      <th>num_orders</th>\n",
       "    </tr>\n",
       "    <tr>\n",
       "      <th>center_type</th>\n",
       "      <th></th>\n",
       "    </tr>\n",
       "  </thead>\n",
       "  <tbody>\n",
       "    <tr>\n",
       "      <th>TYPE_B</th>\n",
       "      <td>318.856145</td>\n",
       "    </tr>\n",
       "    <tr>\n",
       "      <th>TYPE_A</th>\n",
       "      <td>262.394456</td>\n",
       "    </tr>\n",
       "    <tr>\n",
       "      <th>TYPE_C</th>\n",
       "      <td>206.670097</td>\n",
       "    </tr>\n",
       "  </tbody>\n",
       "</table>\n",
       "</div>"
      ],
      "text/plain": [
       "             num_orders\n",
       "center_type            \n",
       "TYPE_B       318.856145\n",
       "TYPE_A       262.394456\n",
       "TYPE_C       206.670097"
      ]
     },
     "execution_count": 36,
     "metadata": {},
     "output_type": "execute_result"
    }
   ],
   "source": [
    "pd.DataFrame(df.num_orders.groupby(df.center_type).mean().sort_values(ascending=False))"
   ]
  },
  {
   "cell_type": "code",
   "execution_count": 37,
   "id": "668c03d6",
   "metadata": {},
   "outputs": [
    {
     "data": {
      "text/html": [
       "<div>\n",
       "<style scoped>\n",
       "    .dataframe tbody tr th:only-of-type {\n",
       "        vertical-align: middle;\n",
       "    }\n",
       "\n",
       "    .dataframe tbody tr th {\n",
       "        vertical-align: top;\n",
       "    }\n",
       "\n",
       "    .dataframe thead th {\n",
       "        text-align: right;\n",
       "    }\n",
       "</style>\n",
       "<table border=\"1\" class=\"dataframe\">\n",
       "  <thead>\n",
       "    <tr style=\"text-align: right;\">\n",
       "      <th></th>\n",
       "      <th>op_area</th>\n",
       "    </tr>\n",
       "    <tr>\n",
       "      <th>center_type</th>\n",
       "      <th></th>\n",
       "    </tr>\n",
       "  </thead>\n",
       "  <tbody>\n",
       "    <tr>\n",
       "      <th>TYPE_B</th>\n",
       "      <td>4.773333</td>\n",
       "    </tr>\n",
       "    <tr>\n",
       "      <th>TYPE_A</th>\n",
       "      <td>4.076744</td>\n",
       "    </tr>\n",
       "    <tr>\n",
       "      <th>TYPE_C</th>\n",
       "      <td>3.157895</td>\n",
       "    </tr>\n",
       "  </tbody>\n",
       "</table>\n",
       "</div>"
      ],
      "text/plain": [
       "              op_area\n",
       "center_type          \n",
       "TYPE_B       4.773333\n",
       "TYPE_A       4.076744\n",
       "TYPE_C       3.157895"
      ]
     },
     "execution_count": 37,
     "metadata": {},
     "output_type": "execute_result"
    }
   ],
   "source": [
    "pd.DataFrame(fc.op_area.groupby(fc.center_type).mean().sort_values(ascending=False))"
   ]
  },
  {
   "cell_type": "markdown",
   "id": "8f683332",
   "metadata": {},
   "source": [
    "### Type B centers have more operational area and also higher number of orders! "
   ]
  },
  {
   "cell_type": "markdown",
   "id": "6338f1d9",
   "metadata": {},
   "source": [
    "### Lets add meal infromation to our data"
   ]
  },
  {
   "cell_type": "code",
   "execution_count": 38,
   "id": "f0dd14d0",
   "metadata": {},
   "outputs": [],
   "source": [
    "mid = mi.meal_id.unique()\n",
    "mlist = mi.cusine_name.to_list()\n",
    "df['cusine_name'] = df['meal_id']\n",
    "df['cusine_name'].replace(mid,mlist,True)"
   ]
  },
  {
   "cell_type": "markdown",
   "id": "161d1da3",
   "metadata": {},
   "source": [
    "### Let's see which cusine names have the highest average of number of orders"
   ]
  },
  {
   "cell_type": "code",
   "execution_count": 39,
   "id": "5c86cdf3",
   "metadata": {},
   "outputs": [],
   "source": [
    "cname_numo = pd.DataFrame(df.num_orders.groupby(df.cusine_name).mean().sort_values(ascending=True))\n",
    "cname_numo.index = cname_numo.index.astype(str)"
   ]
  },
  {
   "cell_type": "code",
   "execution_count": 40,
   "id": "9440ea2b",
   "metadata": {},
   "outputs": [
    {
     "name": "stdout",
     "output_type": "stream",
     "text": [
      "                       num_orders\n",
      "cusine_name                      \n",
      "Indian Rice Bowl       624.822288\n",
      "Thai Beverages         558.425855\n",
      "Italian Sandwich       529.776276\n",
      "Italian Beverages      418.021329\n",
      "Italian Salad          383.218460\n",
      "Thai Extras            293.834169\n",
      "Continental Pizza      222.817309\n",
      "Continental Beverages  182.559624\n",
      "Thai Other Snacks      162.234691\n",
      "Thai Starters          155.276110\n",
      "Continental Seafood    100.895898\n",
      "Continental Fish        85.595268\n",
      "Thai Soup               82.023353\n",
      "Indian Beverages        80.075061\n",
      "Indian Desert           66.250905\n",
      "Italian Pasta           59.137142\n",
      "Indian Biryani          30.651402\n"
     ]
    },
    {
     "data": {
      "image/png": "[encoded data removed]",
      "text/plain": [
       "<Figure size 720x360 with 1 Axes>"
      ]
     },
     "metadata": {
      "needs_background": "light"
     },
     "output_type": "display_data"
    }
   ],
   "source": [
    "plt.figure(figsize=(10,5))\n",
    "plt.barh(cname_numo.index, cname_numo.num_orders)\n",
    "plt.grid()\n",
    "print(cname_numo.sort_values('num_orders',ascending=False))\n",
    "plt.show()"
   ]
  },
  {
   "cell_type": "code",
   "execution_count": 41,
   "id": "2be36c54",
   "metadata": {},
   "outputs": [
    {
     "data": {
      "text/html": [
       "<div>\n",
       "<style scoped>\n",
       "    .dataframe tbody tr th:only-of-type {\n",
       "        vertical-align: middle;\n",
       "    }\n",
       "\n",
       "    .dataframe tbody tr th {\n",
       "        vertical-align: top;\n",
       "    }\n",
       "\n",
       "    .dataframe thead th {\n",
       "        text-align: right;\n",
       "    }\n",
       "</style>\n",
       "<table border=\"1\" class=\"dataframe\">\n",
       "  <thead>\n",
       "    <tr style=\"text-align: right;\">\n",
       "      <th></th>\n",
       "      <th>id</th>\n",
       "      <th>week</th>\n",
       "      <th>center_id</th>\n",
       "      <th>meal_id</th>\n",
       "      <th>checkout_price</th>\n",
       "      <th>checkout_price_catg</th>\n",
       "      <th>base_price</th>\n",
       "      <th>emailer_for_promotion</th>\n",
       "      <th>homepage_featured</th>\n",
       "      <th>num_orders</th>\n",
       "      <th>center_type</th>\n",
       "      <th>cusine_name</th>\n",
       "    </tr>\n",
       "  </thead>\n",
       "  <tbody>\n",
       "    <tr>\n",
       "      <th>0</th>\n",
       "      <td>1379560</td>\n",
       "      <td>1</td>\n",
       "      <td>55</td>\n",
       "      <td>1885</td>\n",
       "      <td>136.83</td>\n",
       "      <td>cheap</td>\n",
       "      <td>152.29</td>\n",
       "      <td>0</td>\n",
       "      <td>0</td>\n",
       "      <td>177</td>\n",
       "      <td>TYPE_C</td>\n",
       "      <td>Thai Beverages</td>\n",
       "    </tr>\n",
       "    <tr>\n",
       "      <th>1</th>\n",
       "      <td>1466964</td>\n",
       "      <td>1</td>\n",
       "      <td>55</td>\n",
       "      <td>1993</td>\n",
       "      <td>136.83</td>\n",
       "      <td>cheap</td>\n",
       "      <td>135.83</td>\n",
       "      <td>0</td>\n",
       "      <td>0</td>\n",
       "      <td>270</td>\n",
       "      <td>TYPE_C</td>\n",
       "      <td>Thai Beverages</td>\n",
       "    </tr>\n",
       "    <tr>\n",
       "      <th>2</th>\n",
       "      <td>1346989</td>\n",
       "      <td>1</td>\n",
       "      <td>55</td>\n",
       "      <td>2539</td>\n",
       "      <td>134.86</td>\n",
       "      <td>cheap</td>\n",
       "      <td>135.86</td>\n",
       "      <td>0</td>\n",
       "      <td>0</td>\n",
       "      <td>189</td>\n",
       "      <td>TYPE_C</td>\n",
       "      <td>Thai Beverages</td>\n",
       "    </tr>\n",
       "    <tr>\n",
       "      <th>3</th>\n",
       "      <td>1338232</td>\n",
       "      <td>1</td>\n",
       "      <td>55</td>\n",
       "      <td>2139</td>\n",
       "      <td>339.50</td>\n",
       "      <td>moderate</td>\n",
       "      <td>437.53</td>\n",
       "      <td>0</td>\n",
       "      <td>0</td>\n",
       "      <td>54</td>\n",
       "      <td>TYPE_C</td>\n",
       "      <td>Indian Beverages</td>\n",
       "    </tr>\n",
       "    <tr>\n",
       "      <th>4</th>\n",
       "      <td>1448490</td>\n",
       "      <td>1</td>\n",
       "      <td>55</td>\n",
       "      <td>2631</td>\n",
       "      <td>243.50</td>\n",
       "      <td>moderate</td>\n",
       "      <td>242.50</td>\n",
       "      <td>0</td>\n",
       "      <td>0</td>\n",
       "      <td>40</td>\n",
       "      <td>TYPE_C</td>\n",
       "      <td>Indian Beverages</td>\n",
       "    </tr>\n",
       "  </tbody>\n",
       "</table>\n",
       "</div>"
      ],
      "text/plain": [
       "        id  week  center_id  meal_id  checkout_price checkout_price_catg  \\\n",
       "0  1379560     1         55     1885          136.83               cheap   \n",
       "1  1466964     1         55     1993          136.83               cheap   \n",
       "2  1346989     1         55     2539          134.86               cheap   \n",
       "3  1338232     1         55     2139          339.50            moderate   \n",
       "4  1448490     1         55     2631          243.50            moderate   \n",
       "\n",
       "   base_price  emailer_for_promotion  homepage_featured  num_orders  \\\n",
       "0      152.29                      0                  0         177   \n",
       "1      135.83                      0                  0         270   \n",
       "2      135.86                      0                  0         189   \n",
       "3      437.53                      0                  0          54   \n",
       "4      242.50                      0                  0          40   \n",
       "\n",
       "  center_type       cusine_name  \n",
       "0      TYPE_C    Thai Beverages  \n",
       "1      TYPE_C    Thai Beverages  \n",
       "2      TYPE_C    Thai Beverages  \n",
       "3      TYPE_C  Indian Beverages  \n",
       "4      TYPE_C  Indian Beverages  "
      ]
     },
     "execution_count": 41,
     "metadata": {},
     "output_type": "execute_result"
    }
   ],
   "source": [
    "df.head()"
   ]
  },
  {
   "cell_type": "code",
   "execution_count": 42,
   "id": "2cba4b37",
   "metadata": {},
   "outputs": [
    {
     "data": {
      "text/html": [
       "<div>\n",
       "<style scoped>\n",
       "    .dataframe tbody tr th:only-of-type {\n",
       "        vertical-align: middle;\n",
       "    }\n",
       "\n",
       "    .dataframe tbody tr th {\n",
       "        vertical-align: top;\n",
       "    }\n",
       "\n",
       "    .dataframe thead th {\n",
       "        text-align: right;\n",
       "    }\n",
       "</style>\n",
       "<table border=\"1\" class=\"dataframe\">\n",
       "  <thead>\n",
       "    <tr style=\"text-align: right;\">\n",
       "      <th></th>\n",
       "      <th>id</th>\n",
       "      <th>week</th>\n",
       "      <th>center_id</th>\n",
       "      <th>meal_id</th>\n",
       "      <th>checkout_price</th>\n",
       "      <th>base_price</th>\n",
       "      <th>emailer_for_promotion</th>\n",
       "      <th>homepage_featured</th>\n",
       "    </tr>\n",
       "  </thead>\n",
       "  <tbody>\n",
       "    <tr>\n",
       "      <th>0</th>\n",
       "      <td>1028232</td>\n",
       "      <td>146</td>\n",
       "      <td>55</td>\n",
       "      <td>1885</td>\n",
       "      <td>158.11</td>\n",
       "      <td>159.11</td>\n",
       "      <td>0</td>\n",
       "      <td>0</td>\n",
       "    </tr>\n",
       "    <tr>\n",
       "      <th>1</th>\n",
       "      <td>1127204</td>\n",
       "      <td>146</td>\n",
       "      <td>55</td>\n",
       "      <td>1993</td>\n",
       "      <td>160.11</td>\n",
       "      <td>159.11</td>\n",
       "      <td>0</td>\n",
       "      <td>0</td>\n",
       "    </tr>\n",
       "    <tr>\n",
       "      <th>2</th>\n",
       "      <td>1212707</td>\n",
       "      <td>146</td>\n",
       "      <td>55</td>\n",
       "      <td>2539</td>\n",
       "      <td>157.14</td>\n",
       "      <td>159.14</td>\n",
       "      <td>0</td>\n",
       "      <td>0</td>\n",
       "    </tr>\n",
       "    <tr>\n",
       "      <th>3</th>\n",
       "      <td>1082698</td>\n",
       "      <td>146</td>\n",
       "      <td>55</td>\n",
       "      <td>2631</td>\n",
       "      <td>162.02</td>\n",
       "      <td>162.02</td>\n",
       "      <td>0</td>\n",
       "      <td>0</td>\n",
       "    </tr>\n",
       "    <tr>\n",
       "      <th>4</th>\n",
       "      <td>1400926</td>\n",
       "      <td>146</td>\n",
       "      <td>55</td>\n",
       "      <td>1248</td>\n",
       "      <td>163.93</td>\n",
       "      <td>163.93</td>\n",
       "      <td>0</td>\n",
       "      <td>0</td>\n",
       "    </tr>\n",
       "  </tbody>\n",
       "</table>\n",
       "</div>"
      ],
      "text/plain": [
       "        id  week  center_id  meal_id  checkout_price  base_price  \\\n",
       "0  1028232   146         55     1885          158.11      159.11   \n",
       "1  1127204   146         55     1993          160.11      159.11   \n",
       "2  1212707   146         55     2539          157.14      159.14   \n",
       "3  1082698   146         55     2631          162.02      162.02   \n",
       "4  1400926   146         55     1248          163.93      163.93   \n",
       "\n",
       "   emailer_for_promotion  homepage_featured  \n",
       "0                      0                  0  \n",
       "1                      0                  0  \n",
       "2                      0                  0  \n",
       "3                      0                  0  \n",
       "4                      0                  0  "
      ]
     },
     "execution_count": 42,
     "metadata": {},
     "output_type": "execute_result"
    }
   ],
   "source": [
    "test = pd.read_csv('./Data/test_QoiMO9B.csv')\n",
    "test.head()"
   ]
  }
 ],
 "metadata": {
  "kernelspec": {
   "display_name": "Python 3",
   "language": "python",
   "name": "python3"
  },
  "language_info": {
   "codemirror_mode": {
    "name": "ipython",
    "version": 3
   },
   "file_extension": ".py",
   "mimetype": "text/x-python",
   "name": "python",
   "nbconvert_exporter": "python",
   "pygments_lexer": "ipython3",
   "version": "3.7.6"
  }
 },
 "nbformat": 4,
 "nbformat_minor": 5
}
